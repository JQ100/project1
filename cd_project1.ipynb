{
  "nbformat": 4,
  "nbformat_minor": 0,
  "metadata": {
    "colab": {
      "name": "cd_project1.ipynb",
      "provenance": [],
      "collapsed_sections": [],
      "mount_file_id": "1dQzvTbYx8NyqhDWX6Po-QVMtubImQreo",
      "authorship_tag": "ABX9TyNA4KVTm0W8qjCM9JlsWphk",
      "include_colab_link": true
    },
    "kernelspec": {
      "name": "python3",
      "display_name": "Python 3"
    },
    "language_info": {
      "name": "python"
    }
  },
  "cells": [
    {
      "cell_type": "markdown",
      "metadata": {
        "id": "view-in-github",
        "colab_type": "text"
      },
      "source": [
        "<a href=\"https://colab.research.google.com/github/JQ100/project1/blob/main/cd_project1.ipynb\" target=\"_parent\"><img src=\"https://colab.research.google.com/assets/colab-badge.svg\" alt=\"Open In Colab\"/></a>"
      ]
    },
    {
      "cell_type": "code",
      "source": [
        "import pandas as pd\n",
        "filename = '/content/sales_predictions.csv'\n",
        "df = pd.read_csv(filename)\n"
      ],
      "metadata": {
        "id": "Z6mXe8AAyJYT"
      },
      "execution_count": 2,
      "outputs": []
    },
    {
      "cell_type": "code",
      "source": [
        "# Q1\n",
        "df.shape[0] # 8523 row count"
      ],
      "metadata": {
        "id": "tnrlqXao0mWT",
        "colab": {
          "base_uri": "https://localhost:8080/"
        },
        "outputId": "548bf6df-52da-40f1-f0cd-35cacc84f481"
      },
      "execution_count": 3,
      "outputs": [
        {
          "output_type": "execute_result",
          "data": {
            "text/plain": [
              "8523"
            ]
          },
          "metadata": {},
          "execution_count": 3
        }
      ]
    },
    {
      "cell_type": "code",
      "source": [
        "df.shape[1] # 12 column count"
      ],
      "metadata": {
        "colab": {
          "base_uri": "https://localhost:8080/"
        },
        "id": "v1Io3a6yu7sg",
        "outputId": "dc2dec2c-beb4-428f-dee6-6fa33c861f4c"
      },
      "execution_count": 4,
      "outputs": [
        {
          "output_type": "execute_result",
          "data": {
            "text/plain": [
              "12"
            ]
          },
          "metadata": {},
          "execution_count": 4
        }
      ]
    },
    {
      "cell_type": "code",
      "source": [
        "# Q2\n",
        "# item_identifier -> str\n",
        "# item_weight -> float\n",
        "# item_fat_content -> str\n",
        "# item_visibility -> float\n",
        "# item_type -> str\n",
        "# item_mrp -> float\n",
        "# outlet_identifier -> str\n",
        "# outlet_establishment -> int\n",
        "# outlet_size -> str\n",
        "# outlet_location_type -> str\n",
        "# outlet_type -> str\n",
        "# item_outlet_sales -> float"
      ],
      "metadata": {
        "id": "bGsXvF9kfCbe"
      },
      "execution_count": 5,
      "outputs": []
    },
    {
      "cell_type": "code",
      "source": [
        "# Q3 - there are no duplicates in this dataset\n",
        "df.duplicated().sum() "
      ],
      "metadata": {
        "id": "pHfDcKwafFn8",
        "colab": {
          "base_uri": "https://localhost:8080/"
        },
        "outputId": "6fd593fd-0f5a-4413-b331-a7074687215c"
      },
      "execution_count": 6,
      "outputs": [
        {
          "output_type": "execute_result",
          "data": {
            "text/plain": [
              "0"
            ]
          },
          "metadata": {},
          "execution_count": 6
        }
      ]
    },
    {
      "cell_type": "code",
      "source": [
        "# Q4 - there are 1463 missing values for Item_Weight and 2410 missing values for Outlet_Location_Type\n",
        "df.isna().sum()"
      ],
      "metadata": {
        "id": "yWHiFXwAfKJi",
        "colab": {
          "base_uri": "https://localhost:8080/"
        },
        "outputId": "666cb32b-d0c0-4d26-a9e2-aa4859293365"
      },
      "execution_count": 7,
      "outputs": [
        {
          "output_type": "execute_result",
          "data": {
            "text/plain": [
              "Item_Identifier                 0\n",
              "Item_Weight                  1463\n",
              "Item_Fat_Content                0\n",
              "Item_Visibility                 0\n",
              "Item_Type                       0\n",
              "Item_MRP                        0\n",
              "Outlet_Identifier               0\n",
              "Outlet_Establishment_Year       0\n",
              "Outlet_Size                  2410\n",
              "Outlet_Location_Type            0\n",
              "Outlet_Type                     0\n",
              "Item_Outlet_Sales               0\n",
              "dtype: int64"
            ]
          },
          "metadata": {},
          "execution_count": 7
        }
      ]
    },
    {
      "cell_type": "code",
      "source": [
        "# Q5 - Since all the provided values are essential to determining sales, we are not dropping any rows/columns.\n",
        "# Also, since sales numbers have to be precise, it would be risky to use a number like mean or mode to fill in missing values.\n",
        "# We are using -1 to mark the info missing while not factoring them into our calculations.\n",
        "\n",
        "not_missing_df = df['Item_Weight'].dropna() # needed for a later question\n",
        "df['Item_Weight'].fillna(-1, inplace=True)\n",
        "df['Outlet_Size'].fillna(-1, inplace=True)"
      ],
      "metadata": {
        "id": "XGEtoNo9fNZp"
      },
      "execution_count": 8,
      "outputs": []
    },
    {
      "cell_type": "code",
      "source": [
        "# Q6 - There are no more missing values.\n",
        "df.isna().sum()"
      ],
      "metadata": {
        "id": "EABjWL66fPYe",
        "colab": {
          "base_uri": "https://localhost:8080/"
        },
        "outputId": "cde50cd8-f289-4138-f834-bb9fbe9933c9"
      },
      "execution_count": 9,
      "outputs": [
        {
          "output_type": "execute_result",
          "data": {
            "text/plain": [
              "Item_Identifier              0\n",
              "Item_Weight                  0\n",
              "Item_Fat_Content             0\n",
              "Item_Visibility              0\n",
              "Item_Type                    0\n",
              "Item_MRP                     0\n",
              "Outlet_Identifier            0\n",
              "Outlet_Establishment_Year    0\n",
              "Outlet_Size                  0\n",
              "Outlet_Location_Type         0\n",
              "Outlet_Type                  0\n",
              "Item_Outlet_Sales            0\n",
              "dtype: int64"
            ]
          },
          "metadata": {},
          "execution_count": 9
        }
      ]
    },
    {
      "cell_type": "code",
      "source": [
        "\n",
        "# Q7 - fix inconsistencies, mostly textual content\n",
        "# begin with fat content column\n",
        "df['Item_Fat_Content'].unique()\n",
        "df['Item_Fat_Content'] = df['Item_Fat_Content'].str.lower()\n",
        "df['Item_Fat_Content'].replace(to_replace = 'lf', inplace=True, value = 'low fat') # replaces all lf with low fat\n",
        "df['Item_Fat_Content'].replace(to_replace = 'reg', inplace=True, value = 'regular') # replaces all reg with regular\n",
        "df['Item_Fat_Content'].unique()"
      ],
      "metadata": {
        "id": "LxzgzKcLfRqk",
        "colab": {
          "base_uri": "https://localhost:8080/"
        },
        "outputId": "de0aba7f-3aa5-4aa0-cdc7-fe21e173a668"
      },
      "execution_count": 10,
      "outputs": [
        {
          "output_type": "execute_result",
          "data": {
            "text/plain": [
              "array(['low fat', 'regular'], dtype=object)"
            ]
          },
          "metadata": {},
          "execution_count": 10
        }
      ]
    },
    {
      "cell_type": "code",
      "source": [
        "# next check item type column data consistency; no changes necessary\n",
        "df['Item_Type'].unique()"
      ],
      "metadata": {
        "colab": {
          "base_uri": "https://localhost:8080/"
        },
        "id": "VDoxXBWZvGEl",
        "outputId": "05a1018a-e7aa-4340-dda5-f7e70881e48f"
      },
      "execution_count": 11,
      "outputs": [
        {
          "output_type": "execute_result",
          "data": {
            "text/plain": [
              "array(['Dairy', 'Soft Drinks', 'Meat', 'Fruits and Vegetables',\n",
              "       'Household', 'Baking Goods', 'Snack Foods', 'Frozen Foods',\n",
              "       'Breakfast', 'Health and Hygiene', 'Hard Drinks', 'Canned',\n",
              "       'Breads', 'Starchy Foods', 'Others', 'Seafood'], dtype=object)"
            ]
          },
          "metadata": {},
          "execution_count": 11
        }
      ]
    },
    {
      "cell_type": "code",
      "source": [
        "# next check outlet location type column data consistency; no changes necessary\n",
        "df['Outlet_Location_Type'].unique()"
      ],
      "metadata": {
        "colab": {
          "base_uri": "https://localhost:8080/"
        },
        "id": "Vyso0InlvIm2",
        "outputId": "9969e612-dee7-4079-e630-f23ec2b57066"
      },
      "execution_count": 12,
      "outputs": [
        {
          "output_type": "execute_result",
          "data": {
            "text/plain": [
              "array(['Tier 1', 'Tier 3', 'Tier 2'], dtype=object)"
            ]
          },
          "metadata": {},
          "execution_count": 12
        }
      ]
    },
    {
      "cell_type": "code",
      "source": [
        "# finally check outlet type column data consistency; no changes necessary\n",
        "df['Outlet_Type'].unique()"
      ],
      "metadata": {
        "colab": {
          "base_uri": "https://localhost:8080/"
        },
        "id": "P4j0fNrEvJb9",
        "outputId": "21573ce4-d394-4dc9-9c0f-c2b740bbb307"
      },
      "execution_count": 13,
      "outputs": [
        {
          "output_type": "execute_result",
          "data": {
            "text/plain": [
              "array(['Supermarket Type1', 'Supermarket Type2', 'Grocery Store',\n",
              "       'Supermarket Type3'], dtype=object)"
            ]
          },
          "metadata": {},
          "execution_count": 13
        }
      ]
    },
    {
      "cell_type": "code",
      "source": [
        "# Q8 - the numerical columns are Item_Weight, Item_Visibility, Item_MRP, Outlet_Establishment, and Item_Outlet_Sales\n",
        "# item weight\n",
        "not_missing_df.min() # 4.555"
      ],
      "metadata": {
        "id": "R7DR7XVTfUC8",
        "colab": {
          "base_uri": "https://localhost:8080/"
        },
        "outputId": "2fad3751-d552-4dc0-8daa-d3e9f66dd106"
      },
      "execution_count": 15,
      "outputs": [
        {
          "output_type": "execute_result",
          "data": {
            "text/plain": [
              "4.555"
            ]
          },
          "metadata": {},
          "execution_count": 15
        }
      ]
    },
    {
      "cell_type": "code",
      "source": [
        "not_missing_df.max() # 21.35"
      ],
      "metadata": {
        "colab": {
          "base_uri": "https://localhost:8080/"
        },
        "id": "Y1nxrs90vOEG",
        "outputId": "e5be1d2b-a570-4f5d-fa73-db9ba7985d32"
      },
      "execution_count": 16,
      "outputs": [
        {
          "output_type": "execute_result",
          "data": {
            "text/plain": [
              "21.35"
            ]
          },
          "metadata": {},
          "execution_count": 16
        }
      ]
    },
    {
      "cell_type": "code",
      "source": [
        "not_missing_df.mean() # 12.858"
      ],
      "metadata": {
        "colab": {
          "base_uri": "https://localhost:8080/"
        },
        "id": "z24lrgOSvQEe",
        "outputId": "c6220421-2008-4ce9-ac9e-6862dbec49ec"
      },
      "execution_count": 17,
      "outputs": [
        {
          "output_type": "execute_result",
          "data": {
            "text/plain": [
              "12.857645184136183"
            ]
          },
          "metadata": {},
          "execution_count": 17
        }
      ]
    },
    {
      "cell_type": "code",
      "source": [
        "# item visibility\n",
        "df['Item_Visibility'].min() # 0"
      ],
      "metadata": {
        "colab": {
          "base_uri": "https://localhost:8080/"
        },
        "id": "20ZRV9kfvRtH",
        "outputId": "361a376c-c99f-4c48-bf42-875de4ab2c22"
      },
      "execution_count": 18,
      "outputs": [
        {
          "output_type": "execute_result",
          "data": {
            "text/plain": [
              "0.0"
            ]
          },
          "metadata": {},
          "execution_count": 18
        }
      ]
    },
    {
      "cell_type": "code",
      "source": [
        "df['Item_Visibility'].max() # 0.328"
      ],
      "metadata": {
        "colab": {
          "base_uri": "https://localhost:8080/"
        },
        "id": "KUYqO4JkvT9-",
        "outputId": "36cee55f-cd0b-43d6-e47b-751cc70928eb"
      },
      "execution_count": 19,
      "outputs": [
        {
          "output_type": "execute_result",
          "data": {
            "text/plain": [
              "0.328390948"
            ]
          },
          "metadata": {},
          "execution_count": 19
        }
      ]
    },
    {
      "cell_type": "code",
      "source": [
        "df['Item_Visibility'].mean() # 0.066"
      ],
      "metadata": {
        "colab": {
          "base_uri": "https://localhost:8080/"
        },
        "id": "KlcL80c0vWVz",
        "outputId": "b44c59e8-96e2-49c9-f51a-b18e32605c15"
      },
      "execution_count": 20,
      "outputs": [
        {
          "output_type": "execute_result",
          "data": {
            "text/plain": [
              "0.06613202877895127"
            ]
          },
          "metadata": {},
          "execution_count": 20
        }
      ]
    },
    {
      "cell_type": "code",
      "source": [
        "# item mrp\n",
        "df['Item_MRP'].min() # 31.29"
      ],
      "metadata": {
        "colab": {
          "base_uri": "https://localhost:8080/"
        },
        "id": "Zds-dCIBvYh7",
        "outputId": "e9fc6677-dbff-46ae-9e7f-d5a4d54db6ea"
      },
      "execution_count": 21,
      "outputs": [
        {
          "output_type": "execute_result",
          "data": {
            "text/plain": [
              "31.29"
            ]
          },
          "metadata": {},
          "execution_count": 21
        }
      ]
    },
    {
      "cell_type": "code",
      "source": [
        "df['Item_MRP'].max() # 266.888"
      ],
      "metadata": {
        "colab": {
          "base_uri": "https://localhost:8080/"
        },
        "id": "KaYq-zQ8vaSc",
        "outputId": "5dbff0c7-4e3e-4e8c-aee2-b50b6a215e25"
      },
      "execution_count": 22,
      "outputs": [
        {
          "output_type": "execute_result",
          "data": {
            "text/plain": [
              "266.8884"
            ]
          },
          "metadata": {},
          "execution_count": 22
        }
      ]
    },
    {
      "cell_type": "code",
      "source": [
        "df['Item_MRP'].mean() # 140.993"
      ],
      "metadata": {
        "colab": {
          "base_uri": "https://localhost:8080/"
        },
        "id": "0aOsxZbJvbuW",
        "outputId": "5c8de856-8519-4274-96ec-be6c4d38bcc8"
      },
      "execution_count": 23,
      "outputs": [
        {
          "output_type": "execute_result",
          "data": {
            "text/plain": [
              "140.9927819781768"
            ]
          },
          "metadata": {},
          "execution_count": 23
        }
      ]
    },
    {
      "cell_type": "code",
      "source": [
        "# outlet establishment\n",
        "df['Outlet_Establishment_Year'].min() # 1985"
      ],
      "metadata": {
        "colab": {
          "base_uri": "https://localhost:8080/"
        },
        "id": "G14WiLmlvdKC",
        "outputId": "bd4c67a0-9be2-4e92-a902-59e1483d90f0"
      },
      "execution_count": 24,
      "outputs": [
        {
          "output_type": "execute_result",
          "data": {
            "text/plain": [
              "1985"
            ]
          },
          "metadata": {},
          "execution_count": 24
        }
      ]
    },
    {
      "cell_type": "code",
      "source": [
        "df['Outlet_Establishment_Year'].max() # 2009"
      ],
      "metadata": {
        "colab": {
          "base_uri": "https://localhost:8080/"
        },
        "id": "LECsbSm2veWo",
        "outputId": "d9aad4d8-e2ca-4df2-fedc-48c52ecea6fe"
      },
      "execution_count": 25,
      "outputs": [
        {
          "output_type": "execute_result",
          "data": {
            "text/plain": [
              "2009"
            ]
          },
          "metadata": {},
          "execution_count": 25
        }
      ]
    },
    {
      "cell_type": "code",
      "source": [
        "df['Outlet_Establishment_Year'].mean() # 1998"
      ],
      "metadata": {
        "colab": {
          "base_uri": "https://localhost:8080/"
        },
        "id": "YWzdmmWtvf0o",
        "outputId": "52758bfc-1cbf-4913-e4c4-b592ffec389e"
      },
      "execution_count": 26,
      "outputs": [
        {
          "output_type": "execute_result",
          "data": {
            "text/plain": [
              "1997.8318667135984"
            ]
          },
          "metadata": {},
          "execution_count": 26
        }
      ]
    },
    {
      "cell_type": "code",
      "source": [
        "# item outlet sales\n",
        "df['Item_Outlet_Sales'].min() # 33.29\n"
      ],
      "metadata": {
        "colab": {
          "base_uri": "https://localhost:8080/"
        },
        "id": "6ZP93_ANvhcu",
        "outputId": "97ed1ab8-04a2-4388-ccb3-afd430f87a44"
      },
      "execution_count": 27,
      "outputs": [
        {
          "output_type": "execute_result",
          "data": {
            "text/plain": [
              "33.29"
            ]
          },
          "metadata": {},
          "execution_count": 27
        }
      ]
    },
    {
      "cell_type": "code",
      "source": [
        "df['Item_Outlet_Sales'].max() # 13086.965"
      ],
      "metadata": {
        "colab": {
          "base_uri": "https://localhost:8080/"
        },
        "id": "MZR71eBmvik8",
        "outputId": "9069566a-2349-45c8-e02f-d5900aa187cf"
      },
      "execution_count": 28,
      "outputs": [
        {
          "output_type": "execute_result",
          "data": {
            "text/plain": [
              "13086.9648"
            ]
          },
          "metadata": {},
          "execution_count": 28
        }
      ]
    },
    {
      "cell_type": "code",
      "source": [
        "df['Item_Outlet_Sales'].mean() # 2181.289"
      ],
      "metadata": {
        "colab": {
          "base_uri": "https://localhost:8080/"
        },
        "id": "j_NXCcapvjwL",
        "outputId": "5023fd84-2247-4d85-f4f4-57e50ad838a3"
      },
      "execution_count": 29,
      "outputs": [
        {
          "output_type": "execute_result",
          "data": {
            "text/plain": [
              "2181.2889135750365"
            ]
          },
          "metadata": {},
          "execution_count": 29
        }
      ]
    }
  ]
}