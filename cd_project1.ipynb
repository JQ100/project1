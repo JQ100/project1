{
  "nbformat": 4,
  "nbformat_minor": 0,
  "metadata": {
    "colab": {
      "name": "cd_project1.ipynb",
      "provenance": [],
      "collapsed_sections": [],
      "mount_file_id": "1dQzvTbYx8NyqhDWX6Po-QVMtubImQreo",
      "authorship_tag": "ABX9TyP5nRiogzqb5n+ZKKXzQ0Hx",
      "include_colab_link": true
    },
    "kernelspec": {
      "name": "python3",
      "display_name": "Python 3"
    },
    "language_info": {
      "name": "python"
    }
  },
  "cells": [
    {
      "cell_type": "markdown",
      "metadata": {
        "id": "view-in-github",
        "colab_type": "text"
      },
      "source": [
        "<a href=\"https://colab.research.google.com/github/JQ100/project1/blob/main/cd_project1.ipynb\" target=\"_parent\"><img src=\"https://colab.research.google.com/assets/colab-badge.svg\" alt=\"Open In Colab\"/></a>"
      ]
    },
    {
      "cell_type": "code",
      "source": [
        "import pandas as pd\n",
        "filename = '/content/sales_predictions.csv'\n",
        "df = pd.read_csv(filename)\n"
      ],
      "metadata": {
        "colab": {
          "base_uri": "https://localhost:8080/"
        },
        "id": "Z6mXe8AAyJYT",
        "outputId": "55f5f8d5-facc-408e-8834-73c07d291af0"
      },
      "execution_count": 40,
      "outputs": [
        {
          "output_type": "execute_result",
          "data": {
            "text/plain": [
              "2181.2889135750365"
            ]
          },
          "metadata": {},
          "execution_count": 40
        }
      ]
    },
    {
      "cell_type": "code",
      "source": [
        "# Q1\n",
        "df.shape[0] # 8523 row count\n",
        "df.shape[1] # 12 column count"
      ],
      "metadata": {
        "id": "tnrlqXao0mWT"
      },
      "execution_count": null,
      "outputs": []
    },
    {
      "cell_type": "code",
      "source": [
        "# Q2\n",
        "# item_identifier -> str\n",
        "# item_weight -> float\n",
        "# item_fat_content -> str\n",
        "# item_visibility -> float\n",
        "# item_type -> str\n",
        "# item_mrp -> float\n",
        "# outlet_identifier -> str\n",
        "# outlet_establishment -> int\n",
        "# outlet_size -> str\n",
        "# outlet_location_type -> str\n",
        "# outlet_type -> str\n",
        "# item_outlet_sales -> float"
      ],
      "metadata": {
        "id": "bGsXvF9kfCbe"
      },
      "execution_count": null,
      "outputs": []
    },
    {
      "cell_type": "code",
      "source": [
        "# Q3 - there are no duplicates in this dataset\n",
        "df.duplicated().sum() "
      ],
      "metadata": {
        "id": "pHfDcKwafFn8"
      },
      "execution_count": null,
      "outputs": []
    },
    {
      "cell_type": "code",
      "source": [
        "# Q4 - there are 1463 missing values for Item_Weight and 2410 missing values for Outlet_Location_Type\n",
        "df.isna().sum()"
      ],
      "metadata": {
        "id": "yWHiFXwAfKJi"
      },
      "execution_count": null,
      "outputs": []
    },
    {
      "cell_type": "code",
      "source": [
        "# Q5 - Since all the provided values are essential to determining sales, we are not dropping any rows/columns.\n",
        "# Also, since sales numbers have to be precise, it would be risky to use a number like mean or mode to fill in missing values.\n",
        "# We are using -1 to mark the info missing while not factoring them into our calculations.\n",
        "\n",
        "not_missing_df = df['Item_Weight'].dropna() # needed for a later question\n",
        "df['Item_Weight'].fillna(-1, inplace=True)\n",
        "df['Outlet_Size'].fillna(-1, inplace=True)"
      ],
      "metadata": {
        "id": "XGEtoNo9fNZp"
      },
      "execution_count": null,
      "outputs": []
    },
    {
      "cell_type": "code",
      "source": [
        "# Q6 - There are no more missing values.\n",
        "df.isna().sum()"
      ],
      "metadata": {
        "id": "EABjWL66fPYe"
      },
      "execution_count": null,
      "outputs": []
    },
    {
      "cell_type": "code",
      "source": [
        "\n",
        "# Q7 - fix inconsistencies, mostly textual content\n",
        "# begin with fat content column\n",
        "df['Item_Fat_Content'].unique()\n",
        "df['Item_Fat_Content'] = df['Item_Fat_Content'].str.lower()\n",
        "df['Item_Fat_Content'].replace(to_replace = 'lf', inplace=True, value = 'low fat') # replaces all lf with low fat\n",
        "df['Item_Fat_Content'].replace(to_replace = 'reg', inplace=True, value = 'regular') # replaces all reg with regular\n",
        "df['Item_Fat_Content'].unique()\n",
        "\n",
        "# next check item type column data consistency; no changes necessary\n",
        "df['Item_Type'].unique()\n",
        "\n",
        "# next check outlet location type column data consistency; no changes necessary\n",
        "df['Outlet_Location_Type'].unique()\n",
        "\n",
        "# finally check outlet type column data consistency; no changes necessary\n",
        "df['Outlet_Type'].unique()"
      ],
      "metadata": {
        "id": "LxzgzKcLfRqk"
      },
      "execution_count": null,
      "outputs": []
    },
    {
      "cell_type": "code",
      "source": [
        "# Q8 - the numerical columns are Item_Weight, Item_Visibility, Item_MRP, Outlet_Establishment, and Item_Outlet_Sales\n",
        "# item weight\n",
        "not_missing_df.min() # 4.555\n",
        "not_missing_df.max() # 21.35\n",
        "not_missing_df.mean() # 12.858\n",
        "\n",
        "# item visibility\n",
        "df['Item_Visibility'].min() # 0\n",
        "df['Item_Visibility'].max() # 0.328\n",
        "df['Item_Visibility'].mean() # 0.066\n",
        "\n",
        "# item mrp\n",
        "df['Item_MRP'].min() # 31.29\n",
        "df['Item_MRP'].max() # 266.888\n",
        "df['Item_MRP'].mean() # 140.993\n",
        "\n",
        "# outlet establishment\n",
        "df['Outlet_Establishment_Year'].min() # 1985\n",
        "df['Outlet_Establishment_Year'].max() # 2009\n",
        "df['Outlet_Establishment_Year'].mean() # 1998\n",
        "\n",
        "# item outlet sales\n",
        "df['Item_Outlet_Sales'].min() # 33.29\n",
        "df['Item_Outlet_Sales'].max() # 13086.965\n",
        "df['Item_Outlet_Sales'].mean() # 2181.289"
      ],
      "metadata": {
        "id": "R7DR7XVTfUC8"
      },
      "execution_count": null,
      "outputs": []
    }
  ]
}